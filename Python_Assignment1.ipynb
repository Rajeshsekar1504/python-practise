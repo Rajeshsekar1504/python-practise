{
 "cells": [
  {
   "cell_type": "markdown",
   "id": "816d7039",
   "metadata": {},
   "source": [
    "### 1. In the below elements which of them are values or an expression? eg:- values can be integer or string and expressions will be mathematical operators."
   ]
  },
  {
   "cell_type": "raw",
   "id": "336d2e41",
   "metadata": {},
   "source": [
    "*\n",
    "'hello'\n",
    "-87.8\n",
    "-\n",
    "/\n",
    "+\n",
    "6"
   ]
  },
  {
   "cell_type": "raw",
   "id": "17f0948e",
   "metadata": {},
   "source": [
    " the following are operators *, -, /, +"
   ]
  },
  {
   "cell_type": "raw",
   "id": "066c4098",
   "metadata": {},
   "source": [
    "'hello' ------ value\n",
    "-87.8  ------value\n",
    "6------------value"
   ]
  },
  {
   "cell_type": "raw",
   "id": "31ffa30a",
   "metadata": {},
   "source": [
    "2. What is the difference between string and variable?\n",
    "\n",
    "- Variable is a name given to the memory location where the values is stored in the memory - variables are containers \n",
    "for storing data value, a python variable can take any values like, int, float or string.\n",
    "\n",
    "    Example x = 23, y = 23.5, strVal = 'Rajesh'\n",
    "\n",
    "- String represents a text value enclosed with in two double quotes(\" \") or two single quotes('').\n",
    "\n",
    "- String is a collection of characters which gives a text.\n",
    "\n",
    "\n",
    "\n",
    "    Example \"Rajesh\", 'Rajesh1504'\n"
   ]
  },
  {
   "cell_type": "raw",
   "id": "25391e59",
   "metadata": {},
   "source": [
    "3. Describe three different data types.\n",
    "\n",
    " Three datatypes in python\n",
    "    \n",
    "- int - A positive or negative whole number without a decimal point.\n",
    "\n",
    "example  a = 10\n",
    "\n",
    "-float- floating point numbers - A positive or negative whole number with a decimal point. \n",
    "example b = 10.5\n",
    "\n",
    "- string - any text with in two single or double quotes and triple single quotes or double quotes(\"\"\" \"\"\")  for multiple lines. \n",
    "-\n",
    "examples c = 'Rajesh1504' strvalue = \"Welcome to python\"\n",
    "\n",
    "mutilinestr = \"\"\"This is a really long comment that can make\n",
    "the code look ugly and uncomfortable to read on\n",
    "a small screen so it needs to be broken into\n",
    "multi-line strings using double triple-quotes\"\"\""
   ]
  },
  {
   "cell_type": "code",
   "execution_count": 19,
   "id": "9e060183",
   "metadata": {},
   "outputs": [
    {
     "data": {
      "text/plain": [
       "int"
      ]
     },
     "execution_count": 19,
     "metadata": {},
     "output_type": "execute_result"
    }
   ],
   "source": [
    "a = 10\n",
    "type(a)"
   ]
  },
  {
   "cell_type": "code",
   "execution_count": 13,
   "id": "e783da06",
   "metadata": {},
   "outputs": [],
   "source": [
    "b = 10.5"
   ]
  },
  {
   "cell_type": "code",
   "execution_count": 20,
   "id": "716ab6eb",
   "metadata": {},
   "outputs": [
    {
     "data": {
      "text/plain": [
       "float"
      ]
     },
     "execution_count": 20,
     "metadata": {},
     "output_type": "execute_result"
    }
   ],
   "source": [
    "type(b)"
   ]
  },
  {
   "cell_type": "code",
   "execution_count": 21,
   "id": "5a10afc7",
   "metadata": {},
   "outputs": [
    {
     "data": {
      "text/plain": [
       "str"
      ]
     },
     "execution_count": 21,
     "metadata": {},
     "output_type": "execute_result"
    }
   ],
   "source": [
    "c = 'Rajesh'\n",
    "type(c)"
   ]
  },
  {
   "cell_type": "code",
   "execution_count": 17,
   "id": "024612a3",
   "metadata": {},
   "outputs": [],
   "source": [
    "multiline = \"\"\"Python is a high-level, interpreted, general-purpose programming language. Its design philosophy emphasizes code readability with the use of significant indentation.[32]\n",
    "\n",
    "Python is dynamically-typed and garbage-collected. It supports multiple programming paradigms, including structured (particularly procedural), object-oriented and functional programming. It is often described as a \"batteries included\" language due to its comprehensive standard library.[\"\"\""
   ]
  },
  {
   "cell_type": "code",
   "execution_count": 18,
   "id": "1485501c",
   "metadata": {},
   "outputs": [
    {
     "data": {
      "text/plain": [
       "'Python is a high-level, interpreted, general-purpose programming language. Its design philosophy emphasizes code readability with the use of significant indentation.[32]\\n\\nPython is dynamically-typed and garbage-collected. It supports multiple programming paradigms, including structured (particularly procedural), object-oriented and functional programming. It is often described as a \"batteries included\" language due to its comprehensive standard library.['"
      ]
     },
     "execution_count": 18,
     "metadata": {},
     "output_type": "execute_result"
    }
   ],
   "source": [
    "multiline"
   ]
  },
  {
   "cell_type": "code",
   "execution_count": 22,
   "id": "8422d911",
   "metadata": {},
   "outputs": [
    {
     "data": {
      "text/plain": [
       "str"
      ]
     },
     "execution_count": 22,
     "metadata": {},
     "output_type": "execute_result"
    }
   ],
   "source": [
    "type(multiline)"
   ]
  },
  {
   "cell_type": "raw",
   "id": "58a12673",
   "metadata": {},
   "source": [
    "4. What is an expression made up of? What do all expressions do?\n",
    "\n",
    "- An Expression is a combination of variables and operators. Then expressions perform operation of variable based on \n",
    "the operators and evaluates the values to a single variable."
   ]
  },
  {
   "cell_type": "code",
   "execution_count": 23,
   "id": "37da7c40",
   "metadata": {},
   "outputs": [
    {
     "name": "stdout",
     "output_type": "stream",
     "text": [
      "c = 10 + 20\n",
      "c = 30\n"
     ]
    }
   ],
   "source": [
    "# variables \n",
    "a = 10\n",
    "b = 20\n",
    "\n",
    "# The expression - sum\n",
    "c = a + b\n",
    "    \n",
    "# Evalues and store the value in C\n",
    "print('c = {} + {}'.format(a,b))\n",
    "print('c =',c)"
   ]
  },
  {
   "cell_type": "raw",
   "id": "a04786d8",
   "metadata": {},
   "source": [
    "5. This assignment statements, like spam = 10. What is the difference between an expression and a statement?\n",
    "\n",
    "- The assignemnt statemets assign a value to the variable.\n",
    "- The expressions evalute the value to a variable.\n",
    "- in spam = 10 , value 10 is assigned to spam variable, \n",
    "  and now spam will have value 10.\n",
    "- But in expression a = C+B, the value of a depends on the value of C and B."
   ]
  },
  {
   "cell_type": "code",
   "execution_count": 28,
   "id": "aa199b22",
   "metadata": {},
   "outputs": [
    {
     "data": {
      "text/plain": [
       "30"
      ]
     },
     "execution_count": 28,
     "metadata": {},
     "output_type": "execute_result"
    }
   ],
   "source": [
    "# Expression example\n",
    "\n",
    "C = 10\n",
    "B =20\n",
    "\n",
    "# my expression is\n",
    "a = C+B\n",
    "\n",
    "a"
   ]
  },
  {
   "cell_type": "raw",
   "id": "0cbe7b96",
   "metadata": {},
   "source": [
    "6. After running the following code, what does the variable bacon contain?\n",
    "bacon = 22\n",
    "bacon + 1"
   ]
  },
  {
   "cell_type": "code",
   "execution_count": 30,
   "id": "c6b3eebb",
   "metadata": {},
   "outputs": [],
   "source": [
    "bacon =22"
   ]
  },
  {
   "cell_type": "code",
   "execution_count": 31,
   "id": "381ce889",
   "metadata": {},
   "outputs": [
    {
     "data": {
      "text/plain": [
       "22"
      ]
     },
     "execution_count": 31,
     "metadata": {},
     "output_type": "execute_result"
    }
   ],
   "source": [
    "bacon"
   ]
  },
  {
   "cell_type": "code",
   "execution_count": 33,
   "id": "f0d1ad3e",
   "metadata": {},
   "outputs": [
    {
     "data": {
      "text/plain": [
       "23"
      ]
     },
     "execution_count": 33,
     "metadata": {},
     "output_type": "execute_result"
    }
   ],
   "source": [
    "#in bacon variable already  contains values of 22, the bacon is not reassigned the value so the becon value is not changed.for becon concatenated value +1\n",
    "\n",
    "bacon+1"
   ]
  },
  {
   "cell_type": "code",
   "execution_count": 37,
   "id": "c01df02c",
   "metadata": {},
   "outputs": [
    {
     "name": "stdout",
     "output_type": "stream",
     "text": [
      "c = 23\n",
      "bacon = 22\n"
     ]
    }
   ],
   "source": [
    "bacon = 22\n",
    "c= bacon+1\n",
    "print('c =',c)\n",
    "print('bacon =',bacon)"
   ]
  },
  {
   "cell_type": "markdown",
   "id": "a537531a",
   "metadata": {},
   "source": [
    " 7. What should the values of the following two terms be?\n",
    "\n",
    "- 'spam' + 'spamspam' \n",
    "- 'spam' * 3"
   ]
  },
  {
   "cell_type": "markdown",
   "id": "b0cfe8d4",
   "metadata": {},
   "source": [
    "# Both are given same outputs:"
   ]
  },
  {
   "cell_type": "code",
   "execution_count": 1,
   "id": "0d15f595",
   "metadata": {},
   "outputs": [
    {
     "data": {
      "text/plain": [
       "'spamspamspam'"
      ]
     },
     "execution_count": 1,
     "metadata": {},
     "output_type": "execute_result"
    }
   ],
   "source": [
    "'spam' + 'spamspam'"
   ]
  },
  {
   "cell_type": "code",
   "execution_count": 2,
   "id": "125b99ca",
   "metadata": {},
   "outputs": [
    {
     "data": {
      "text/plain": [
       "'spamspamspam'"
      ]
     },
     "execution_count": 2,
     "metadata": {},
     "output_type": "execute_result"
    }
   ],
   "source": [
    "'spam' * 3"
   ]
  },
  {
   "cell_type": "raw",
   "id": "701136db",
   "metadata": {},
   "source": [
    "8. Why is eggs a valid variable name while 100 is invalid?\n",
    "\n",
    "- variable can not start with numbers.\n",
    "- Always start with characters or text or alphanumeric."
   ]
  },
  {
   "cell_type": "code",
   "execution_count": 6,
   "id": "0171b26a",
   "metadata": {},
   "outputs": [
    {
     "data": {
      "text/plain": [
       "100"
      ]
     },
     "execution_count": 6,
     "metadata": {},
     "output_type": "execute_result"
    }
   ],
   "source": [
    "eggs = 100\n",
    "eggs"
   ]
  },
  {
   "cell_type": "code",
   "execution_count": 8,
   "id": "21eae3d0",
   "metadata": {},
   "outputs": [
    {
     "ename": "SyntaxError",
     "evalue": "cannot assign to literal (2537469907.py, line 1)",
     "output_type": "error",
     "traceback": [
      "\u001b[1;36m  Input \u001b[1;32mIn [8]\u001b[1;36m\u001b[0m\n\u001b[1;33m    100 = 'eggs'\u001b[0m\n\u001b[1;37m    ^\u001b[0m\n\u001b[1;31mSyntaxError\u001b[0m\u001b[1;31m:\u001b[0m cannot assign to literal\n"
     ]
    }
   ],
   "source": [
    "100 = 'eggs'\n",
    "100"
   ]
  },
  {
   "cell_type": "markdown",
   "id": "ea111ab0",
   "metadata": {},
   "source": [
    "### 9. What three functions can be used to get the integer, floating-point number, or string version of a value?\n"
   ]
  },
  {
   "cell_type": "raw",
   "id": "28636511",
   "metadata": {},
   "source": [
    " there are three functions:\n",
    "    - int()\n",
    "    - float()\n",
    "    - str()\n",
    "    \n",
    "     will convert the values to integer, float or string versions of the values passed to them"
   ]
  },
  {
   "cell_type": "code",
   "execution_count": 16,
   "id": "5ab83610",
   "metadata": {},
   "outputs": [
    {
     "name": "stdout",
     "output_type": "stream",
     "text": [
      "a = 10.6\n"
     ]
    }
   ],
   "source": [
    "a = 10.6\n",
    "print('a =',a)"
   ]
  },
  {
   "cell_type": "code",
   "execution_count": 14,
   "id": "72f9da19",
   "metadata": {},
   "outputs": [
    {
     "data": {
      "text/plain": [
       "10"
      ]
     },
     "execution_count": 14,
     "metadata": {},
     "output_type": "execute_result"
    }
   ],
   "source": [
    "int(a)"
   ]
  },
  {
   "cell_type": "code",
   "execution_count": 17,
   "id": "ba5fef1b",
   "metadata": {},
   "outputs": [],
   "source": [
    "b =4"
   ]
  },
  {
   "cell_type": "code",
   "execution_count": 18,
   "id": "3757dfb2",
   "metadata": {},
   "outputs": [
    {
     "data": {
      "text/plain": [
       "4.0"
      ]
     },
     "execution_count": 18,
     "metadata": {},
     "output_type": "execute_result"
    }
   ],
   "source": [
    "float(b)"
   ]
  },
  {
   "cell_type": "code",
   "execution_count": 19,
   "id": "6551e04b",
   "metadata": {},
   "outputs": [],
   "source": [
    "c = 59"
   ]
  },
  {
   "cell_type": "code",
   "execution_count": 20,
   "id": "8599d341",
   "metadata": {},
   "outputs": [
    {
     "data": {
      "text/plain": [
       "59"
      ]
     },
     "execution_count": 20,
     "metadata": {},
     "output_type": "execute_result"
    }
   ],
   "source": [
    "c"
   ]
  },
  {
   "cell_type": "code",
   "execution_count": 21,
   "id": "a81eb782",
   "metadata": {},
   "outputs": [
    {
     "data": {
      "text/plain": [
       "'59'"
      ]
     },
     "execution_count": 21,
     "metadata": {},
     "output_type": "execute_result"
    }
   ],
   "source": [
    "str(c)"
   ]
  },
  {
   "cell_type": "markdown",
   "id": "d33c809d",
   "metadata": {},
   "source": [
    "### 10. Why does this expression cause an error? How can you fix it? 'I have eaten ' + 99 + ' burritos.'"
   ]
  },
  {
   "cell_type": "markdown",
   "id": "976b0cb5",
   "metadata": {},
   "source": [
    "- String concatenation can not performed with integer values.\n",
    "- This can be fixed by converting 99 into string by str(99)."
   ]
  },
  {
   "cell_type": "code",
   "execution_count": 23,
   "id": "11486d93",
   "metadata": {},
   "outputs": [
    {
     "ename": "TypeError",
     "evalue": "can only concatenate str (not \"int\") to str",
     "output_type": "error",
     "traceback": [
      "\u001b[1;31m---------------------------------------------------------------------------\u001b[0m",
      "\u001b[1;31mTypeError\u001b[0m                                 Traceback (most recent call last)",
      "Input \u001b[1;32mIn [23]\u001b[0m, in \u001b[0;36m<cell line: 1>\u001b[1;34m()\u001b[0m\n\u001b[1;32m----> 1\u001b[0m \u001b[38;5;124;43m'\u001b[39;49m\u001b[38;5;124;43mI have eaten \u001b[39;49m\u001b[38;5;124;43m'\u001b[39;49m\u001b[43m \u001b[49m\u001b[38;5;241;43m+\u001b[39;49m\u001b[43m \u001b[49m\u001b[38;5;241;43m99\u001b[39;49m \u001b[38;5;241m+\u001b[39m \u001b[38;5;124m'\u001b[39m\u001b[38;5;124m burritos.\u001b[39m\u001b[38;5;124m'\u001b[39m\n",
      "\u001b[1;31mTypeError\u001b[0m: can only concatenate str (not \"int\") to str"
     ]
    }
   ],
   "source": [
    " 'I have eaten ' + 99 + ' burritos.'"
   ]
  },
  {
   "cell_type": "code",
   "execution_count": 37,
   "id": "4d5d38f2",
   "metadata": {},
   "outputs": [
    {
     "data": {
      "text/plain": [
       "'I have eaten 99 burritos.'"
      ]
     },
     "execution_count": 37,
     "metadata": {},
     "output_type": "execute_result"
    }
   ],
   "source": [
    "'I have eaten ' +str(99) + ' burritos.'"
   ]
  },
  {
   "cell_type": "code",
   "execution_count": 42,
   "id": "f08b7fa3",
   "metadata": {},
   "outputs": [
    {
     "data": {
      "text/plain": [
       "'I have eaten 99 burritos.'"
      ]
     },
     "execution_count": 42,
     "metadata": {},
     "output_type": "execute_result"
    }
   ],
   "source": [
    "'I have eaten ' + '99' + ' burritos.'"
   ]
  }
 ],
 "metadata": {
  "kernelspec": {
   "display_name": "Python 3 (ipykernel)",
   "language": "python",
   "name": "python3"
  },
  "language_info": {
   "codemirror_mode": {
    "name": "ipython",
    "version": 3
   },
   "file_extension": ".py",
   "mimetype": "text/x-python",
   "name": "python",
   "nbconvert_exporter": "python",
   "pygments_lexer": "ipython3",
   "version": "3.9.7"
  }
 },
 "nbformat": 4,
 "nbformat_minor": 5
}
